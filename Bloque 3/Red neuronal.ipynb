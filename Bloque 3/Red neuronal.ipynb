{
 "cells": [
  {
   "cell_type": "markdown",
   "id": "former-pittsburgh",
   "metadata": {},
   "source": [
    "En este ejercicio, intentará construir una red neuronal que prediga el precio de una casa de acuerdo con una fórmula simple.\n",
    "\n",
    "Imagine que el precio de la casa sea $50000 + 50000 por habitación, de modo que una casa de 1 habitación cuesta 100000, una casa de 2 habitaciones cuesta 150000, etc.\n",
    "\n",
    "¿Cómo crearía una red neuronal que aprenda esta relación para predecir que una casa de 7 habitaciones cuesta cerca de 400000, por ejemplo?\n",
    "\n",
    "Sugerencia: su red podría funcionar mejor si reduce el precio de la vivienda. No tiene que dar la respuesta 400 ... podría ser mejor crear algo que prediga el número 4, y luego su respuesta está en los 'cientos de miles'."
   ]
  },
  {
   "cell_type": "markdown",
   "id": "hundred-spread",
   "metadata": {},
   "source": [
    "Primero importamos las librerías"
   ]
  },
  {
   "cell_type": "code",
   "execution_count": 1,
   "id": "seven-wonder",
   "metadata": {},
   "outputs": [],
   "source": [
    "import numpy as np\n",
    "import tensorflow as tf\n",
    "from tensorflow import keras\n",
    "\n"
   ]
  },
  {
   "cell_type": "markdown",
   "id": "adopted-proposal",
   "metadata": {},
   "source": [
    "Luego Defiimos la red neuronal. En este caso constará de una única neurona."
   ]
  },
  {
   "cell_type": "code",
   "execution_count": 2,
   "id": "elder-findings",
   "metadata": {},
   "outputs": [],
   "source": [
    "model = tf.keras.Sequential([keras.layers.Dense(units=1, input_shape=[1])])\n",
    "model.compile(optimizer='sgd', loss='mean_squared_error')\n",
    "\n"
   ]
  },
  {
   "cell_type": "markdown",
   "id": "finite-weekly",
   "metadata": {},
   "source": [
    "Ahora cargamos los datos para el entrenamiento. Por un lado los valores de X, y por el otro los valores de Y. Con 6 o 7 ejemplos estaremos bien."
   ]
  },
  {
   "cell_type": "code",
   "execution_count": 3,
   "id": "spread-founder",
   "metadata": {},
   "outputs": [],
   "source": [
    "xs = [0.0,1.0,2.0,3.0,4.0,5.0,6.0]\n",
    "ys = [50000.0,100000.0,150000.0,200000.0,250000.0,300000.0,350000.0]"
   ]
  },
  {
   "cell_type": "markdown",
   "id": "improved-submission",
   "metadata": {},
   "source": [
    "Ahora le diremos a la red neuronal que se ajuste a los datos de entrenamiento"
   ]
  },
  {
   "cell_type": "code",
   "execution_count": 6,
   "id": "atomic-texas",
   "metadata": {},
   "outputs": [
    {
     "name": "stdout",
     "output_type": "stream",
     "text": [
      "Epoch 1/10\n",
      "1/1 [==============================] - 0s 141ms/step - loss: 18.4699\n",
      "Epoch 2/10\n",
      "1/1 [==============================] - 0s 39ms/step - loss: 18.2706\n",
      "Epoch 3/10\n",
      "1/1 [==============================] - 0s 135ms/step - loss: 18.0273\n",
      "Epoch 4/10\n",
      "1/1 [==============================] - 0s 53ms/step - loss: 17.8521\n",
      "Epoch 5/10\n",
      "1/1 [==============================] - 0s 16ms/step - loss: 17.6390\n",
      "Epoch 6/10\n",
      "1/1 [==============================] - 0s 192ms/step - loss: 17.4153\n",
      "Epoch 7/10\n",
      "1/1 [==============================] - 0s 30ms/step - loss: 17.2604\n",
      "Epoch 8/10\n",
      "1/1 [==============================] - 0s 229ms/step - loss: 17.0510\n",
      "Epoch 9/10\n",
      "1/1 [==============================] - 0s 209ms/step - loss: 16.8345\n",
      "Epoch 10/10\n",
      "1/1 [==============================] - 0s 300ms/step - loss: 16.6471\n"
     ]
    },
    {
     "data": {
      "text/plain": [
       "<tensorflow.python.keras.callbacks.History at 0x1aa8dab3040>"
      ]
     },
     "execution_count": 6,
     "metadata": {},
     "output_type": "execute_result"
    }
   ],
   "source": [
    "model.fit(xs,ys,epochs=10)"
   ]
  },
  {
   "cell_type": "markdown",
   "id": "sophisticated-dealer",
   "metadata": {},
   "source": [
    "Por último, le pediremos que nos diga cuánto custa una casa con 7 habitaciones"
   ]
  },
  {
   "cell_type": "code",
   "execution_count": 8,
   "id": "substantial-grocery",
   "metadata": {},
   "outputs": [
    {
     "name": "stdout",
     "output_type": "stream",
     "text": [
      "[[300001.3]]\n"
     ]
    }
   ],
   "source": [
    "print(model.predict([5.0]))"
   ]
  },
  {
   "cell_type": "code",
   "execution_count": null,
   "id": "respective-skiing",
   "metadata": {},
   "outputs": [],
   "source": []
  },
  {
   "cell_type": "code",
   "execution_count": null,
   "id": "positive-raise",
   "metadata": {},
   "outputs": [],
   "source": []
  }
 ],
 "metadata": {
  "kernelspec": {
   "display_name": "Python 3",
   "language": "python",
   "name": "python3"
  },
  "language_info": {
   "codemirror_mode": {
    "name": "ipython",
    "version": 3
   },
   "file_extension": ".py",
   "mimetype": "text/x-python",
   "name": "python",
   "nbconvert_exporter": "python",
   "pygments_lexer": "ipython3",
   "version": "3.8.5"
  }
 },
 "nbformat": 4,
 "nbformat_minor": 5
}
