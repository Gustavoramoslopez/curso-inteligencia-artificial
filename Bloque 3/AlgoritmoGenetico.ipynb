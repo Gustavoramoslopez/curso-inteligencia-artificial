{
 "cells": [
  {
   "cell_type": "markdown",
   "id": "czech-granny",
   "metadata": {},
   "source": [
    "Comenzamos por importar las librerías correspondientes"
   ]
  },
  {
   "cell_type": "code",
   "execution_count": 2,
   "id": "undefined-impression",
   "metadata": {},
   "outputs": [],
   "source": [
    "import random\n",
    "import string\n",
    "from fuzzywuzzy import fuzz\n"
   ]
  },
  {
   "cell_type": "markdown",
   "id": "nominated-camel",
   "metadata": {},
   "source": [
    "Luego definimos las variables que utilizaremos como parámetros generales del algoritmo"
   ]
  },
  {
   "cell_type": "code",
   "execution_count": 3,
   "id": "phantom-visitor",
   "metadata": {},
   "outputs": [],
   "source": [
    "in_str = None\n",
    "in_str_len = None\n",
    "population = 20\n",
    "generations = 1000\n"
   ]
  },
  {
   "cell_type": "raw",
   "id": "blind-architect",
   "metadata": {},
   "source": []
  },
  {
   "cell_type": "code",
   "execution_count": 4,
   "id": "atlantic-terrain",
   "metadata": {},
   "outputs": [],
   "source": [
    "class Agent:\n",
    "\n",
    "    def __init__(self, length):\n",
    "        self.string = \"\".join(random.choice(string.ascii_letters) for _ in range(length))\n",
    "        self.fitness = -1\n",
    "\n",
    "    def __str__(self):\n",
    "        return \"String: \" + str(self.string) + \" aptitud: \" + str(self.fitness) \n"
   ]
  },
  {
   "cell_type": "code",
   "execution_count": null,
   "id": "ordered-johnson",
   "metadata": {},
   "outputs": [],
   "source": []
  },
  {
   "cell_type": "code",
   "execution_count": 5,
   "id": "changed-atmosphere",
   "metadata": {},
   "outputs": [],
   "source": [
    "def ga():\n",
    "    agents = init_agents(population,in_str_len)\n",
    "\n",
    "    threshold = False    \n",
    "    for generation in range(generations):\n",
    "            \n",
    "\n",
    "        agents = fitness(agents)\n",
    "        agents = selection(agents)\n",
    "        agents = crossover(agents)\n",
    "        agents = mutation(agents)\n",
    "\n",
    "        for agent in agents:\n",
    "            if agent.fitness == 100:\n",
    "                print (\"Generación \" + str(generation) + \". Convergió: \" + str(agent))\n",
    "                threshold = True\n",
    "        if threshold:\n",
    "            break\n",
    "        else:\n",
    "            print (\"Generación \" + str(generation) + \": \" + str(agents[0]))\n",
    "        \n",
    "\n",
    "                "
   ]
  },
  {
   "cell_type": "code",
   "execution_count": null,
   "id": "outdoor-interface",
   "metadata": {},
   "outputs": [],
   "source": []
  },
  {
   "cell_type": "code",
   "execution_count": 6,
   "id": "binary-steps",
   "metadata": {},
   "outputs": [],
   "source": [
    "def init_agents(population,length):\n",
    "    return [Agent(length) for _ in range (population)]\n",
    "\n",
    "def fitness(agents):\n",
    "    for agent in agents:\n",
    "        agent.fitness = fuzz.ratio(agent.string, in_str)\n",
    "    return agents\n",
    "\n",
    "def selection(agents):\n",
    "    agents = sorted(agents, key=lambda agent: agent.fitness, reverse=True)\n",
    "    agents = agents[:int(0.2 * len(agents))]\n",
    "    return agents\n",
    "\n",
    "def crossover(agents):\n",
    "    offspring = []\n",
    "    for _ in  range(int((population - len(agents)) / 2)):\n",
    "        parent1 = random.choice(agents)\n",
    "        parent2 = random.choice(agents)\n",
    "        child1 =  Agent(in_str_len)\n",
    "        child2 =  Agent(in_str_len)\n",
    "        split = random.randint(0, in_str_len)\n",
    "        child1.string = parent1.string[0:split] + parent2.string[split:in_str_len]\n",
    "        child2.string = parent2.string[0:split] + parent1.string[split:in_str_len]\n",
    "\n",
    "        offspring.append(child1)\n",
    "        offspring.append(child2)\n",
    "\n",
    "    agents.extend(offspring)\n",
    "\n",
    "    return agents\n",
    "\n",
    "def mutation(agents):\n",
    "    for agent in agents:\n",
    "        for idx, param in enumerate(agent.string):\n",
    "            if random.uniform(0.0, 1.0) <= 0.1:\n",
    "                agent.string = agent.string[0:idx] + random.choice(string.ascii_letters) + agent.string[idx+1:in_str_len]\n",
    "    return agents"
   ]
  },
  {
   "cell_type": "code",
   "execution_count": null,
   "id": "divided-redhead",
   "metadata": {},
   "outputs": [],
   "source": []
  },
  {
   "cell_type": "code",
   "execution_count": 11,
   "id": "flexible-passage",
   "metadata": {},
   "outputs": [
    {
     "name": "stdout",
     "output_type": "stream",
     "text": [
      "Generación 0: String: yaav aptitud: 50\n",
      "Generación 1: String: yaav aptitud: 50\n",
      "Generación 2: String: yaat aptitud: 50\n",
      "Generación 3: String: Taat aptitud: 50\n",
      "Generación 4: String: Taat aptitud: 50\n",
      "Generación 5: String: Taat aptitud: 50\n",
      "Generación 6: String: Taat aptitud: 50\n",
      "Generación 7: String: Taat aptitud: 50\n",
      "Generación 8: String: Tavt aptitud: 50\n",
      "Generación 9: String: Saab aptitud: 50\n",
      "Generación 10: String: Saab aptitud: 50\n",
      "Generación 11: String: Saab aptitud: 50\n",
      "Generación 12: String: Saab aptitud: 50\n",
      "Generación 13: String: Saab aptitud: 50\n",
      "Generación 14: String: Saab aptitud: 50\n",
      "Generación 15: String: Saab aptitud: 50\n",
      "Generación 16: String: Saab aptitud: 50\n",
      "Generación 17: String: Saab aptitud: 50\n",
      "Generación 18: String: Saab aptitud: 50\n",
      "Generación 19: String: caSa aptitud: 75\n",
      "Generación 20: String: caSa aptitud: 75\n",
      "Generación 21: String: caSa aptitud: 75\n",
      "Generación 22: String: DaSa aptitud: 75\n",
      "Generación 23. Convergió: String: casa aptitud: 100\n"
     ]
    }
   ],
   "source": [
    "in_str = \"casa\"\n",
    "in_str_len = len(in_str)\n",
    "ga()"
   ]
  },
  {
   "cell_type": "code",
   "execution_count": null,
   "id": "increased-hearing",
   "metadata": {},
   "outputs": [],
   "source": []
  },
  {
   "cell_type": "code",
   "execution_count": null,
   "id": "contained-balance",
   "metadata": {},
   "outputs": [],
   "source": []
  }
 ],
 "metadata": {
  "kernelspec": {
   "display_name": "Python 3",
   "language": "python",
   "name": "python3"
  },
  "language_info": {
   "codemirror_mode": {
    "name": "ipython",
    "version": 3
   },
   "file_extension": ".py",
   "mimetype": "text/x-python",
   "name": "python",
   "nbconvert_exporter": "python",
   "pygments_lexer": "ipython3",
   "version": "3.8.5"
  }
 },
 "nbformat": 4,
 "nbformat_minor": 5
}
