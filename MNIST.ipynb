{
 "cells": [
  {
   "cell_type": "markdown",
   "metadata": {},
   "source": [
    "# Adquisición de datos con el conjunto de datos Fashion MNIST\n",
    "\n",
    "En este notebook, analizaremos algunos métodos para obtener el conjunto de datos Fashion MNIST. Al igual que en el notebook anterior, pasaremos por el proceso de obtención de los datos que necesitamos."
   ]
  },
  {
   "cell_type": "markdown",
   "metadata": {},
   "source": [
    "Podemos encontrar el conjunto de datos Fashion MNIST de múltiples formas en internet, pero pasaremos por un procedimiento de código simple para facilitarnos el proceso. Escribiremos código para obtener los datos por nosotros.\n",
    "\n",
    "Para obtener más referencias a los datos, consulte https://github.com/zalandoresearch/fashion-mnist.\n",
    "\n",
    "Para que el script funcione, asegúrese de tener la biblioteca os, wget, pandas y matplotlib instalada en su entorno virtual de Python.\n",
    "\n",
    "## 1.1 Importar datos a través de pandas"
   ]
  },
  {
   "cell_type": "code",
   "execution_count": 1,
   "metadata": {},
   "outputs": [],
   "source": [
    "import pandas as pd # Pandas para manipular los datos\n",
    "import numpy as np # numpy para realizar cálculos\n",
    "import matplotlib.pyplot as plt # matplotlib para graficar\n",
    "from sklearn.model_selection import train_test_split"
   ]
  },
  {
   "cell_type": "markdown",
   "metadata": {},
   "source": [
    "Ahora intentaremos obtener los datos para el conjunto de datos de moda MNIST. Para mayor comodidad, ya hemos colocado los datos en una carpeta llamada FMNIST. Intente mirar en su interior, ¿qué ves? ¿Por qué ves 2 archivos?"
   ]
  },
  {
   "cell_type": "markdown",
   "metadata": {},
   "source": [
    "El conjunto de datos Fashion MNIST es un archivo csv. Ahora, abra el conjunto de datos usando la función pd.read_csv () y asígnelo a las variables 'raw_data_train' y 'raw_data_test'. Luego, imprima las primeras 5 filas del marco de datos para ver el atributo de datos. ¿Que notó?"
   ]
  },
  {
   "cell_type": "code",
   "execution_count": null,
   "metadata": {},
   "outputs": [],
   "source": []
  },
  {
   "cell_type": "code",
   "execution_count": null,
   "metadata": {},
   "outputs": [],
   "source": [
    "raw_data_train.head()"
   ]
  },
  {
   "cell_type": "markdown",
   "metadata": {},
   "source": [
    "Do you have any burning questions in your mind? If you do, now might be a good time to raise your hand and ask away to your instructors. \n",
    "\n",
    "If you are confident with the content so far, we can move on to a small task. Now use pandas to obtain basic information (Number of rows and columns, type of data, number of missing values and basic statistics) about the dataset. Use .info() and .describe() to obtain basic information about the dataset!\n",
    "\n",
    "¿Tiene algunas preguntas? \n",
    "Si está seguro con el contenido hasta ahora, podemos pasar a una pequeña tarea. Ahora use pandas para obtener información básica (número de filas y columnas, tipo de datos, número de valores perdidos y estadísticas básicas) sobre el conjunto de datos. Utilice .info () y .describe () para obtener información básica sobre el conjunto de datos."
   ]
  },
  {
   "cell_type": "code",
   "execution_count": null,
   "metadata": {},
   "outputs": [],
   "source": [
    "# RESPUESTA\n"
   ]
  },
  {
   "cell_type": "markdown",
   "metadata": {},
   "source": [
    "Ahora que ha terminado de importar los datos, podemos pasar a una tarea simple de encontrar los tipos de datos dentro de este dataframe. ¿Puede encontrar los tipos de datos únicos dentro de este marco de datos e imprimirlos?"
   ]
  },
  {
   "cell_type": "code",
   "execution_count": null,
   "metadata": {},
   "outputs": [],
   "source": [
    "# RESPUESTA\n"
   ]
  },
  {
   "cell_type": "markdown",
   "metadata": {},
   "source": [
    "Felicitaciones por completar el notebook de adquisición de datos Fashion MNIST. Si ha terminado antes, tómese un tiempo para jugar con el conjunto de datos y aprender más sobre él.\n",
    "\n",
    "1. ¿Existen otras formas de importar datos, como datos de imágenes, de ser así, cómo?\n",
    "2. Nuestras imágenes en el conjunto de datos de Fahsion MNIST están en escala de grises. ¿Cómo cambiarían los marcos de datos si el conjunto de datos estuviera compuesto por imágenes en color?"
   ]
  },
  {
   "cell_type": "code",
   "execution_count": null,
   "metadata": {},
   "outputs": [],
   "source": []
  },
  {
   "cell_type": "code",
   "execution_count": null,
   "metadata": {},
   "outputs": [],
   "source": []
  }
 ],
 "metadata": {
  "kernelspec": {
   "display_name": "Python 3",
   "language": "python",
   "name": "python3"
  },
  "language_info": {
   "codemirror_mode": {
    "name": "ipython",
    "version": 3
   },
   "file_extension": ".py",
   "mimetype": "text/x-python",
   "name": "python",
   "nbconvert_exporter": "python",
   "pygments_lexer": "ipython3",
   "version": "3.8.5"
  }
 },
 "nbformat": 4,
 "nbformat_minor": 4
}
